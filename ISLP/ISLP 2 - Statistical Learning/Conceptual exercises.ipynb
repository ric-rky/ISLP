{
 "cells": [
  {
   "cell_type": "markdown",
   "metadata": {},
   "source": [
    "## Conceptual"
   ]
  },
  {
   "cell_type": "markdown",
   "metadata": {},
   "source": [
    "### Question 1\n",
    "For each of parts (a) through (d), indicate whether we would generally\n",
    "expect the performance of a flexible statistical learning method to be\n",
    "better or worse than an inflexible method. \\\n",
    "Justify your answer. \\\n",
    "(a) The sample size $n$ is extremely large, and the number of predictors\n",
    "$p$ is small. \\\n",
    "(b) The number of predictors $p$ is extremely large, and the number\n",
    "of observations $n$ is small. \\\n",
    "(c) The relationship between the predictors and response is highly\n",
    "non-linear. \\\n",
    "(d) The variance of the error terms, i.e. $\\sigma^2 = Var(\\varepsilon)$, is extremely\n",
    "high.\n"
   ]
  },
  {
   "cell_type": "markdown",
   "metadata": {},
   "source": [
    "### Answers\n",
    "a) Flexible is better, because $n$ is large and so we can best adapt the model without the risk of overfitting. \\\n",
    "b) Inflexible is better, because $p >> n$ and flexible models have a high risk of overfitting. \\\n",
    "c) Flexible. \\\n",
    "d) Inflexible, because highly flexible models have higher variance."
   ]
  },
  {
   "cell_type": "markdown",
   "metadata": {},
   "source": [
    "### Question 2\n",
    "Explain whether each scenario is a classification or regression problem, \\\n",
    "and indicate whether we are most interested in inference or prediction. \\\n",
    "Finally, provide $n$ and $p$. \\\n",
    "(a) We collect a set of data on the top $500$ firms in the US. For each\n",
    "firm we record profit, number of employees, industry and the\n",
    "CEO salary. \\\n",
    "We are interested in understanding which factors\n",
    "affect CEO salary. \\\n",
    "(b) We are considering launching a new product and wish to know\n",
    "whether it will be a success or a failure. We collect data on $20$\n",
    "similar products that were previously launched. \\\n",
    "For each product\n",
    "we have recorded whether it was a success or failure, price\n",
    "charged for the product, marketing budget, competition price,\n",
    "and ten other variables. \\\n",
    "(c) We are interested in predicting the % change in the USD/Euro\n",
    "exchange rate in relation to the weekly changes in the world\n",
    "stock markets. Hence we collect weekly data for all of $2012$. \\\n",
    "For\n",
    "each week we record the % change in the USD/Euro, the %\n",
    "change in the US market, the % change in the British market,\n",
    "and the % change in the German market."
   ]
  },
  {
   "cell_type": "markdown",
   "metadata": {},
   "source": [
    "### Answers\n",
    "a) Regression and inference, $n = 500$, $p = 3$. \\\n",
    "b) Classification and prediction, $n = 20$, $p = 13$. \\\n",
    "c) Regression and prediction, $n = 52$, $p = 3$."
   ]
  },
  {
   "cell_type": "markdown",
   "metadata": {},
   "source": [
    "### Question 4\n",
    "You will now think of some real-life applications for statistical learning.  \n",
    "(a) Describe three real-life applications in which classification might be useful.  \n",
    "Describe the response, as well as the predictors.  \n",
    "Is the goal of each application inference or prediction? Explain your answer.  \n",
    "(b) Describe three real-life applications in which regression might be useful.  \n",
    "Describe the response, as well as the predictors.  \n",
    "Is the goal of each application inference or prediction? Explain your answer.  \n",
    "(c) Describe three real-life applications in which cluster analysis might be useful.\n",
    "\n",
    "\n"
   ]
  },
  {
   "cell_type": "markdown",
   "metadata": {},
   "source": [
    "## Answers\n",
    "a) To know if a sample of people are infected or not (1), to know wether a house has been sold or not (2), and to know wether a e-mail is a spam or not (3).  \n",
    "Predictors and response:  \n",
    "(1) Some data about the people such as age, symptoms and medical history, and \"yes\" or \"no\";  \n",
    "(2) Some characteristics about the houses for sale, such as localization and price, and \"yes\" or \"no\";\n",
    "(3) Some characteristics such as key-words, sender, and \"is spam\" or \"not spam\".  \n",
    "All of the above falls into the prediction paradigm. \n"
   ]
  },
  {
   "cell_type": "markdown",
   "metadata": {},
   "source": [
    "b) Predicting house prices\n",
    "\n",
    "Response: House price (a continuous variable).  \n",
    "Predictors: House size, number of bedrooms, location, age of the property, and amenities.  \n",
    "Goal: Prediction.  \n",
    "The objective is to estimate the price of a house based on its characteristics, focusing on accurate predictions for new houses rather than understanding the exact relationship between predictors and price.\n",
    "Estimating the impact of advertising on sales\n",
    "\n",
    "Response: Sales (in dollars, a continuous variable).  \n",
    "Predictors: Advertising budget allocated to TV, radio, and online platforms.  \n",
    "Goal: Inference.  \n",
    "The goal is to understand how each advertising channel impacts sales (e.g., how much an additional dollar spent on TV increases sales). This helps allocate budgets effectively.\n",
    "Modeling electricity consumption\n",
    "\n",
    "Response: Electricity usage (in kilowatt-hours, a continuous variable).  \n",
    "Predictors: Time of year, outdoor temperature, and household size.  \n",
    "Goal: Prediction.  \n",
    "The aim is to forecast future electricity consumption based on predictors to optimize grid management and resource allocation."
   ]
  },
  {
   "cell_type": "markdown",
   "metadata": {},
   "source": [
    "c) Clustering is useful when we want to group data based on shared characteristics or patterns, especially when there is no predefined label or category. For example, we could cluster students based on their test scores into three groups: those with high scores, those around the mean, and those with low scores.\n",
    "\n",
    "This approach can help identify performance trends and enable targeted actions. For instance:\n",
    "\n",
    "Students in the low-score group might benefit from additional support or tutoring.\n",
    "Students in the high-score group could be offered advanced learning opportunities.\n",
    "Identifying the group around the mean might help to evaluate the overall effectiveness of the teaching methods."
   ]
  },
  {
   "cell_type": "markdown",
   "metadata": {},
   "source": [
    "### Question 5\n",
    "What are the advantages and disadvantages of a very flexible (versus\n",
    "a less flexible) approach for regression or classification?  \n",
    "Under what\n",
    "circumstances might a more flexible approach be preferred to a less\n",
    "flexible approach? When might a less flexible approach be preferred?"
   ]
  },
  {
   "cell_type": "markdown",
   "metadata": {},
   "source": [
    "## Answer  \n",
    "Inflexible is more interpretable, fewer observations required, can be biased.\n",
    "Flexible can overfit (high error variance).  \n",
    "In cases where we have high $n$ or\n",
    "non-linear patterns flexible will be preferred."
   ]
  },
  {
   "cell_type": "markdown",
   "metadata": {},
   "source": [
    "### Question 6\n",
    "Describe the differences between a parametric and a non-parametric\n",
    "statistical learning approach.  \n",
    "What are the advantages of a parametric\n",
    "approach to regression or classification (as opposed to a nonparametric\n",
    "approach)? What are its disadvantages?"
   ]
  },
  {
   "cell_type": "markdown",
   "metadata": {},
   "source": [
    "## Answer\n",
    "In a parametric model, one makes an assumption of the \"form\" of $f$, i.e., $Y = f(X, \\beta) = f(X_1,\\,\\dots,\\,X_p,\\,\\beta_1,\\,\\dots,\\,\\beta_p)$, where $\\beta_j$ are real parameters,  \n",
    "and then one obtain the values of $\\beta_j$.  \n",
    "A parametric approach simplifies the problem because it is easier to estimate a set of parameters.  \n",
    "The disadvantage is that the model we chose will usually not match the true unknown form of $f$.\n",
    "In a non-parametric model, one does not make assumptions about $f$,  \n",
    "instead, one approximates $f$ as closely as possible to the values of the data set.  \n",
    "By not assuming a particular form of $f$, one can fit a wider range of possible shapes for $f$.  \n",
    "A very large number of observations is required in order to obtain an accurate estimate for $f$. "
   ]
  },
  {
   "cell_type": "code",
   "execution_count": 46,
   "metadata": {},
   "outputs": [],
   "source": [
    "import numpy as np\n",
    "import pandas as pd"
   ]
  },
  {
   "cell_type": "code",
   "execution_count": 73,
   "metadata": {},
   "outputs": [],
   "source": [
    "df = pd.DataFrame(data = [[0, 3, 0, 'Red'], \n",
    "                        [2, 0, 0, 'Red'],\n",
    "                        [0, 1, 3, 'Red'],\n",
    "                        [0, 1, 2, 'Green'],\n",
    "                        [- 1, 0, 1, 'Green'],\n",
    "                        [1, 1, 1, 'Red']], \n",
    "                  index = ['Obs', 1, 2, 3, 4, 5],\n",
    "                  columns = ['X1', 'X2', 'X3', 'Y'])"
   ]
  },
  {
   "cell_type": "code",
   "execution_count": 77,
   "metadata": {},
   "outputs": [
    {
     "data": {
      "text/html": [
       "<div>\n",
       "<style scoped>\n",
       "    .dataframe tbody tr th:only-of-type {\n",
       "        vertical-align: middle;\n",
       "    }\n",
       "\n",
       "    .dataframe tbody tr th {\n",
       "        vertical-align: top;\n",
       "    }\n",
       "\n",
       "    .dataframe thead th {\n",
       "        text-align: right;\n",
       "    }\n",
       "</style>\n",
       "<table border=\"1\" class=\"dataframe\">\n",
       "  <thead>\n",
       "    <tr style=\"text-align: right;\">\n",
       "      <th></th>\n",
       "      <th>X1</th>\n",
       "      <th>X2</th>\n",
       "      <th>X3</th>\n",
       "      <th>Y</th>\n",
       "    </tr>\n",
       "  </thead>\n",
       "  <tbody>\n",
       "    <tr>\n",
       "      <th>Obs</th>\n",
       "      <td>0</td>\n",
       "      <td>3</td>\n",
       "      <td>0</td>\n",
       "      <td>Red</td>\n",
       "    </tr>\n",
       "    <tr>\n",
       "      <th>1</th>\n",
       "      <td>2</td>\n",
       "      <td>0</td>\n",
       "      <td>0</td>\n",
       "      <td>Red</td>\n",
       "    </tr>\n",
       "    <tr>\n",
       "      <th>2</th>\n",
       "      <td>0</td>\n",
       "      <td>1</td>\n",
       "      <td>3</td>\n",
       "      <td>Red</td>\n",
       "    </tr>\n",
       "    <tr>\n",
       "      <th>3</th>\n",
       "      <td>0</td>\n",
       "      <td>1</td>\n",
       "      <td>2</td>\n",
       "      <td>Green</td>\n",
       "    </tr>\n",
       "    <tr>\n",
       "      <th>4</th>\n",
       "      <td>-1</td>\n",
       "      <td>0</td>\n",
       "      <td>1</td>\n",
       "      <td>Green</td>\n",
       "    </tr>\n",
       "    <tr>\n",
       "      <th>5</th>\n",
       "      <td>1</td>\n",
       "      <td>1</td>\n",
       "      <td>1</td>\n",
       "      <td>Red</td>\n",
       "    </tr>\n",
       "  </tbody>\n",
       "</table>\n",
       "</div>"
      ],
      "text/plain": [
       "     X1  X2  X3      Y\n",
       "Obs   0   3   0    Red\n",
       "1     2   0   0    Red\n",
       "2     0   1   3    Red\n",
       "3     0   1   2  Green\n",
       "4    -1   0   1  Green\n",
       "5     1   1   1    Red"
      ]
     },
     "execution_count": 77,
     "metadata": {},
     "output_type": "execute_result"
    }
   ],
   "source": [
    "df"
   ]
  },
  {
   "cell_type": "markdown",
   "metadata": {},
   "source": [
    "### Question 7\n",
    "Suppose we wish to use this data set df to make a prediction for Y when  \n",
    "X1 = X2 = X3 = 0 using K-nearest neighbors.  \n",
    "(a) Compute the Euclidean distance between each observation and\n",
    "the test point, X1 = X2 = X3 = 0.  \n",
    "(b) What is our prediction with K = 1? Why?  \n",
    "(c) What is our prediction with K = 3? Why?  \n",
    "(d) If the Bayes decision boundary in this problem is highly nonlinear,  \n",
    "then would we expect the best value for K to be large or  \n",
    "small? Why?"
   ]
  },
  {
   "cell_type": "code",
   "execution_count": 87,
   "metadata": {},
   "outputs": [],
   "source": [
    "def euc_norm(X_1, X_2, X_3):\n",
    "    return np.sqrt(X_1 ** 2 + X_2 ** 2 + X_3 ** 2)"
   ]
  },
  {
   "cell_type": "code",
   "execution_count": 90,
   "metadata": {},
   "outputs": [
    {
     "name": "stdout",
     "output_type": "stream",
     "text": [
      "The distance between the point (0, 3, 0) and the test point (0, 0, 0) is 3.00.\n",
      "The distance between the point (2, 0, 0) and the test point (0, 0, 0) is 2.00.\n",
      "The distance between the point (0, 1, 3) and the test point (0, 0, 0) is 3.16.\n",
      "The distance between the point (0, 1, 2) and the test point (0, 0, 0) is 2.24.\n",
      "The distance between the point (-1, 0, 1) and the test point (0, 0, 0) is 1.41.\n",
      "The distance between the point (1, 1, 1) and the test point (0, 0, 0) is 1.73.\n"
     ]
    }
   ],
   "source": [
    "# a) \n",
    "for index, row in df.iterrows():\n",
    "    X1, X2, X3 = row['X1'], row['X2'], row['X3']\n",
    "    dist = euc_norm(X1, X2, X3)\n",
    "    print(f\"The distance between the point {(X1, X2, X3)} and the test point (0, 0, 0) is {dist:.2f}.\")"
   ]
  },
  {
   "cell_type": "markdown",
   "metadata": {},
   "source": [
    "### \n",
    "b) If $K = 1$, the prediction is green, because is the one point closer to the test point.\n"
   ]
  },
  {
   "cell_type": "markdown",
   "metadata": {},
   "source": [
    "### \n",
    "c) If $K = 3$, we consider the three closest points, $(- 1, 0, 1)$, $(1, 1, 1)$ and $(2, 0, 0)$, whose responses are, respectively, green, red and red.  \n",
    "Thus, the prediction is red.  \n",
    "\n",
    "Formalmente, temos que\n",
    "\\begin{equation} \n",
    "P(Y = j | X = x_0) = \\frac{1}{K} \\sum_{i \\, \\in \\, \\mathcal{N}_0} I(y_i = j),\n",
    "\\end{equation}\n",
    "em que $\\mathcal{N}_0$ denota o conjunto dos pontos de treinamento que estão mais próximos de $x_0$, o ponto de teste.  \n",
    "Os pontos mais próximos do ponto de teste $x_0 = (0, 0, 0)$ são $y_5 = (- 1, 0, 1)$, $y_6 = (1, 1, 1)$ e $y_2 = (2, 0, 0)$, cujas respostas são verde, vermelho e vermelho, respectivamente.  \n",
    "Logo, temos \n",
    "$$\n",
    "\\text{Verde}: \\quad \\frac{1}{3} \\left(I(y_2 = \\text{Verde}) + I(y_5 = \\text{Verde}) + I(y_6 = \\text{Verde})\\right) = \\frac{1}{3} (0 + 1 + 0) = 1.  \\\\\n",
    "\\text{Vermelho}: \\quad \\frac{1}{3} \\left(I(y_2 = \\text{Vermelho}) + I(y_5 = \\text{Vermelho}) + I(y_6 = \\text{Vermelho})\\right) = \\frac{1}{3} (0 + 1 + 1) = 2\n",
    "$$\n",
    "Logo, temos que a predição é vermelho.\n"
   ]
  },
  {
   "cell_type": "code",
   "execution_count": null,
   "metadata": {},
   "outputs": [],
   "source": []
  },
  {
   "cell_type": "code",
   "execution_count": null,
   "metadata": {},
   "outputs": [],
   "source": []
  }
 ],
 "metadata": {
  "kernelspec": {
   "display_name": "DS_env",
   "language": "python",
   "name": "python3"
  },
  "language_info": {
   "codemirror_mode": {
    "name": "ipython",
    "version": 3
   },
   "file_extension": ".py",
   "mimetype": "text/x-python",
   "name": "python",
   "nbconvert_exporter": "python",
   "pygments_lexer": "ipython3",
   "version": "3.12.5"
  }
 },
 "nbformat": 4,
 "nbformat_minor": 2
}
